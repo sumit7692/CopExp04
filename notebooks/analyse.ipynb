{
 "cells": [
  {
   "cell_type": "code",
   "execution_count": 53,
   "metadata": {},
   "outputs": [],
   "source": [
    "from nptdms import TdmsFile\n",
    "import numpy as np\n",
    "from scipy.io.wavfile import write\n",
    "import pandas as pd"
   ]
  },
  {
   "cell_type": "code",
   "execution_count": 46,
   "metadata": {},
   "outputs": [
    {
     "data": {
      "text/plain": [
       "[<TdmsGroup with path /'DAQChannels'>,\n",
       " <TdmsGroup with path /'RadioChannels'>,\n",
       " <TdmsGroup with path /'FrameSignals b14y5_f'>,\n",
       " <TdmsGroup with path /'FrameSignals b13o18_m'>,\n",
       " <TdmsGroup with path /'Auxillary'>]"
      ]
     },
     "execution_count": 46,
     "metadata": {},
     "output_type": "execute_result"
    }
   ],
   "source": [
    "tdms_file = TdmsFile.read(\"../data/BP_2020-10-28_12-31-29_591542_1120000.tdms\")\n",
    "\n",
    "tdms_file.groups()"
   ]
  },
  {
   "cell_type": "code",
   "execution_count": 47,
   "metadata": {},
   "outputs": [
    {
     "data": {
      "text/plain": [
       "[<TdmsChannel with path /'RadioChannels'/'b14y5_f'>,\n",
       " <TdmsChannel with path /'RadioChannels'/'b13o18_m'>]"
      ]
     },
     "execution_count": 47,
     "metadata": {},
     "output_type": "execute_result"
    }
   ],
   "source": [
    "audio = tdms_file[\"RadioChannels\"].channels()\n",
    "audio"
   ]
  },
  {
   "cell_type": "code",
   "execution_count": 48,
   "metadata": {},
   "outputs": [
    {
     "data": {
      "text/plain": [
       "OrderedDict([('name', 'BP_2020-10-28_12-31-29_591542_1120000'),\n",
       "             ('FileVersion', 1.0),\n",
       "             ('Unique', '591542'),\n",
       "             ('FirstFrameNr', 1120000),\n",
       "             ('Rollover', 20000),\n",
       "             ('StartTime', numpy.datetime64('2020-10-28T11:31:29.389549')),\n",
       "             ('SampleRate__Hz', 24414.0625),\n",
       "             ('FrameRate__Hz', 47.6837158203125),\n",
       "             ('LO__Hz', 330000000.0),\n",
       "             ('Range__Hz', 2000000.0),\n",
       "             ('Gain__dB', 74.5),\n",
       "             ('FramesInFile', 20000)])"
      ]
     },
     "execution_count": 48,
     "metadata": {},
     "output_type": "execute_result"
    }
   ],
   "source": [
    "rate = tdms_file.properties[\"SampleRate__Hz\"]\n",
    "tdms_file.properties"
   ]
  },
  {
   "cell_type": "code",
   "execution_count": 49,
   "metadata": {},
   "outputs": [
    {
     "data": {
      "text/plain": [
       "OrderedDict([('ChannelNr', 0),\n",
       "             ('ChannelName', 'b14y5_f'),\n",
       "             ('SenderID', '020'),\n",
       "             ('SenderColor', 7209119),\n",
       "             ('CenterFrequency', 328350737.165939),\n",
       "             ('NI_ChannelName', 'b14y5_f'),\n",
       "             ('Color', 7209119),\n",
       "             ('unit_string', 'Hz'),\n",
       "             ('wf_xname', 'time'),\n",
       "             ('wf_xunit_string', 's'),\n",
       "             ('wf_start_time', numpy.datetime64('2020-10-28T11:31:29.389549')),\n",
       "             ('wf_start_offset', 0.0),\n",
       "             ('wf_increment', 4.096e-05),\n",
       "             ('wf_samples', 512)])"
      ]
     },
     "execution_count": 49,
     "metadata": {},
     "output_type": "execute_result"
    }
   ],
   "source": [
    "audio[0].properties"
   ]
  },
  {
   "cell_type": "code",
   "execution_count": 50,
   "metadata": {},
   "outputs": [],
   "source": [
    "female = audio[0]\n",
    "male = audio[1]\n",
    "f_audio = female.data\n",
    "m_audio = male.data"
   ]
  },
  {
   "cell_type": "code",
   "execution_count": 57,
   "metadata": {},
   "outputs": [
    {
     "data": {
      "text/plain": [
       "([33599.652,\n",
       "  33604.68,\n",
       "  33437.508,\n",
       "  33330.824,\n",
       "  33216.227,\n",
       "  33595.973,\n",
       "  33478.348,\n",
       "  33517.695,\n",
       "  33458.6,\n",
       "  33242.117],\n",
       " array([33599.652 , 33604.68  , 33437.508 , ..., -1877.2203, -1627.8588,\n",
       "        -1837.127 ], dtype=float32))"
      ]
     },
     "execution_count": 57,
     "metadata": {},
     "output_type": "execute_result"
    }
   ],
   "source": [
    "list(f_audio)[0:10], f_audio"
   ]
  },
  {
   "cell_type": "code",
   "execution_count": 52,
   "metadata": {},
   "outputs": [],
   "source": [
    "write('../data/31-29_m.wav', int(rate), m_audio[:600000])"
   ]
  },
  {
   "cell_type": "code",
   "execution_count": null,
   "metadata": {},
   "outputs": [],
   "source": []
  }
 ],
 "metadata": {
  "kernelspec": {
   "display_name": "Python 3.9.12 ('base')",
   "language": "python",
   "name": "python3"
  },
  "language_info": {
   "codemirror_mode": {
    "name": "ipython",
    "version": 3
   },
   "file_extension": ".py",
   "mimetype": "text/x-python",
   "name": "python",
   "nbconvert_exporter": "python",
   "pygments_lexer": "ipython3",
   "version": "3.9.12"
  },
  "orig_nbformat": 4,
  "vscode": {
   "interpreter": {
    "hash": "5a7e64e222616e79aaea4132373f225ac838816a9208a2e023f1c5562f1eec27"
   }
  }
 },
 "nbformat": 4,
 "nbformat_minor": 2
}
